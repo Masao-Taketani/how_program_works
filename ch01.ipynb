{
 "cells": [
  {
   "cell_type": "markdown",
   "metadata": {},
   "source": [
    "# 学んだこと\n",
    "\n",
    "- マシン語とは、コンピューターが解釈できる<span style=\"color: red; \">**電気信号となったプログラム**</span>のことで、そのプログラムがハードディスクなどのディスク媒体に保存されるときには、電気信号が<span style=\"color: red; \">**磁気信号**</span>に変換される。\n",
    "- <span style=\"color: red; \">**アセンブリ言語とマシン語は、基本的に一対一で対応している**</span>ため、CPUの動きを説明するのにアセンブリ言語が適している。\n",
    "- クロック周波数が大きいほどCPUの動作は速くなる。\n",
    "- 関数を呼び出した後に、呼び出し元に正しく戻ることができるのは、<span style=\"color: red; \">**スタック**</span>のおかげ。"
   ]
  },
  {
   "cell_type": "code",
   "execution_count": null,
   "metadata": {},
   "outputs": [],
   "source": []
  }
 ],
 "metadata": {
  "kernelspec": {
   "display_name": "Python 3",
   "language": "python",
   "name": "python3"
  },
  "language_info": {
   "codemirror_mode": {
    "name": "ipython",
    "version": 3
   },
   "file_extension": ".py",
   "mimetype": "text/x-python",
   "name": "python",
   "nbconvert_exporter": "python",
   "pygments_lexer": "ipython3",
   "version": "3.6.5"
  }
 },
 "nbformat": 4,
 "nbformat_minor": 2
}
