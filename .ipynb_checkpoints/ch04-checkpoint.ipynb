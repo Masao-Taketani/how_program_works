{
 "cells": [
  {
   "cell_type": "code",
   "execution_count": 1,
   "metadata": {},
   "outputs": [],
   "source": [
    "from collections import deque"
   ]
  },
  {
   "cell_type": "markdown",
   "metadata": {},
   "source": [
    "## Stack"
   ]
  },
  {
   "cell_type": "code",
   "execution_count": 6,
   "metadata": {},
   "outputs": [
    {
     "name": "stdout",
     "output_type": "stream",
     "text": [
      "after pushing: [123, 456, 789]\n",
      "after 1 pop: 789\n",
      "after 2 pops: 456\n",
      "after 3 pops: 123\n"
     ]
    }
   ],
   "source": [
    "stack = []\n",
    "\n",
    "stack.append(123)\n",
    "stack.append(456)\n",
    "stack.append(789)\n",
    "\n",
    "print(\"after pushing:\", stack)\n",
    "\n",
    "print(\"after 1 pop:\", stack.pop())\n",
    "print(\"after 2 pops:\", stack.pop())\n",
    "print(\"after 3 pops:\", stack.pop())"
   ]
  },
  {
   "cell_type": "markdown",
   "metadata": {},
   "source": [
    "## Queue"
   ]
  },
  {
   "cell_type": "code",
   "execution_count": 10,
   "metadata": {},
   "outputs": [
    {
     "name": "stdout",
     "output_type": "stream",
     "text": [
      "after putting: deque([123, 456, 789])\n",
      "after 1 get: 123\n",
      "after 2 gets: 456\n",
      "after 3 gets: 789\n"
     ]
    }
   ],
   "source": [
    "queue = deque([])\n",
    "\n",
    "queue.append(123)\n",
    "queue.append(456)\n",
    "queue.append(789)\n",
    "\n",
    "print(\"after putting:\", queue)\n",
    "\n",
    "print(\"after 1 get:\", queue.popleft())\n",
    "print(\"after 2 gets:\", queue.popleft())\n",
    "print(\"after 3 gets:\", queue.popleft())"
   ]
  },
  {
   "cell_type": "code",
   "execution_count": null,
   "metadata": {},
   "outputs": [],
   "source": []
  }
 ],
 "metadata": {
  "kernelspec": {
   "display_name": "Python 3",
   "language": "python",
   "name": "python3"
  },
  "language_info": {
   "codemirror_mode": {
    "name": "ipython",
    "version": 3
   },
   "file_extension": ".py",
   "mimetype": "text/x-python",
   "name": "python",
   "nbconvert_exporter": "python",
   "pygments_lexer": "ipython3",
   "version": "3.6.4"
  }
 },
 "nbformat": 4,
 "nbformat_minor": 2
}
