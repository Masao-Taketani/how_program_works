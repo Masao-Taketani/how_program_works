{
 "cells": [
  {
   "cell_type": "code",
   "execution_count": 11,
   "metadata": {},
   "outputs": [],
   "source": [
    "def main():\n",
    "    sum = 0.0\n",
    "    operand = 0.1\n",
    "    \n",
    "    # add 0.1 100 times\n",
    "    for i in range(100):\n",
    "        sum += operand\n",
    "        \n",
    "    print(\"What we get for the sum: {}\".format(sum))"
   ]
  },
  {
   "cell_type": "code",
   "execution_count": 12,
   "metadata": {},
   "outputs": [
    {
     "name": "stdout",
     "output_type": "stream",
     "text": [
      "Expected sum: 10.0\n",
      "What we get for the sum: 9.99999999999998\n"
     ]
    }
   ],
   "source": [
    "if __name__ == \"__main__\":\n",
    "    print(\"Expected sum:\", str(0.1 * 100))\n",
    "    main()"
   ]
  },
  {
   "cell_type": "markdown",
   "metadata": {},
   "source": [
    "## Caution\n",
    "Since 0.1 cannot be represented by binary digits, an error occurred from the calculation above.\n",
    "## Countermeasure\n",
    "For the addition, make the data type of the number integer multiply by some number, and then devide that number at the end."
   ]
  },
  {
   "cell_type": "code",
   "execution_count": 13,
   "metadata": {},
   "outputs": [],
   "source": [
    "def main2():\n",
    "    sum = 0.0\n",
    "    operand = 0.1\n",
    "    multiplied_operand = 10\n",
    "    integerized_operand = operand * multiplied_operand\n",
    "    \n",
    "    # add 0.1 100 times\n",
    "    for i in range(100):\n",
    "        sum += integerized_operand\n",
    "    final_result = sum / multiplied_operand\n",
    "        \n",
    "    print(\"What we get for the sum: {}\".format(final_result))"
   ]
  },
  {
   "cell_type": "code",
   "execution_count": 14,
   "metadata": {},
   "outputs": [
    {
     "name": "stdout",
     "output_type": "stream",
     "text": [
      "Expected sum:  10.0\n",
      "What we get for the sum: 10.0\n"
     ]
    }
   ],
   "source": [
    "if __name__ == \"__main__\":\n",
    "    print(\"Expected sum: \", str(0.1 * 100))\n",
    "    main2()"
   ]
  },
  {
   "cell_type": "markdown",
   "metadata": {},
   "source": [
    "## Convert decimal numbers into single-precision-floating-point number"
   ]
  },
  {
   "cell_type": "code",
   "execution_count": 3,
   "metadata": {},
   "outputs": [
    {
     "name": "stdout",
     "output_type": "stream",
     "text": [
      "33\n",
      "32\n",
      "31\n",
      "30\n",
      "29\n",
      "28\n",
      "27\n",
      "26\n",
      "25\n",
      "24\n",
      "23\n",
      "22\n",
      "21\n",
      "20\n",
      "19\n",
      "18\n",
      "17\n",
      "16\n",
      "15\n",
      "14\n",
      "13\n",
      "12\n",
      "11\n",
      "10\n",
      "9\n",
      "8\n",
      "7\n",
      "6\n",
      "5\n",
      "4\n",
      "3\n",
      "2\n",
      "1\n",
      "0\n"
     ]
    }
   ],
   "source": [
    "f = float(0.75)\n",
    "s = \"\"\n",
    "\n",
    "for i in range(33, -1, -1):\n",
    "    if i == 1 or i == 10:\n",
    "        s[i] += \"-\"\n",
    "    else:\n",
    "        if 1 & 2"
   ]
  },
  {
   "cell_type": "code",
   "execution_count": null,
   "metadata": {},
   "outputs": [],
   "source": []
  }
 ],
 "metadata": {
  "kernelspec": {
   "display_name": "Python 3",
   "language": "python",
   "name": "python3"
  },
  "language_info": {
   "codemirror_mode": {
    "name": "ipython",
    "version": 3
   },
   "file_extension": ".py",
   "mimetype": "text/x-python",
   "name": "python",
   "nbconvert_exporter": "python",
   "pygments_lexer": "ipython3",
   "version": "3.6.4"
  }
 },
 "nbformat": 4,
 "nbformat_minor": 2
}
