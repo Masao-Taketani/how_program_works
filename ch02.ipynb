{
 "cells": [
  {
   "cell_type": "markdown",
   "metadata": {},
   "source": [
    "## Bit Shifting Operation"
   ]
  },
  {
   "cell_type": "code",
   "execution_count": 7,
   "metadata": {},
   "outputs": [
    {
     "name": "stdout",
     "output_type": "stream",
     "text": [
      "binary of a: 0b100111\n",
      "after 2 logical left shift of a: 0b10011100\n",
      "after 2 logical left shift of a: 0b100\n"
     ]
    }
   ],
   "source": [
    "a = 39\n",
    "print(\"binary of a:\", bin(a))\n",
    "b = bin(a << 2)\n",
    "print(\"after 2 logical left shift of a:\", b)\n",
    "c = bin(a >> 3)\n",
    "print(\"after 3 logical right shift of a:\", c)"
   ]
  },
  {
   "cell_type": "markdown",
   "metadata": {},
   "source": [
    "## Logical Operators in Python"
   ]
  },
  {
   "cell_type": "code",
   "execution_count": 56,
   "metadata": {},
   "outputs": [
    {
     "name": "stdout",
     "output_type": "stream",
     "text": [
      "binary of a: 00000101\n",
      "binary of b: 00000111\n",
      "binary of c: 00001010\n",
      "=================[AND]===================\n",
      "a AND b    : 00000101\n",
      "b AND c    : 00000010\n",
      "=================[OR]====================\n",
      "a OR b     : 00000111\n",
      "b OR c     : 00001111\n",
      "=================[XOR]===================\n",
      "a XOR b    : 00000010\n",
      "b XOR c    : 00001101\n",
      "=================[NOT]===================\n",
      "NOT a      : 11111010\n",
      "NOT b      : 11111000\n",
      "NOT c      : 11110101\n"
     ]
    }
   ],
   "source": [
    "a = 5\n",
    "b = 7\n",
    "c = 10\n",
    "a_bin = bin(a)\n",
    "b_bin = bin(b)\n",
    "c_bin = bin(c)\n",
    "print(\"binary of a:\", a_bin[2:].zfill(8))\n",
    "print(\"binary of b:\", b_bin[2:].zfill(8))\n",
    "print(\"binary of c:\", c_bin[2:].zfill(8))\n",
    "print(\"=================[AND]===================\")\n",
    "# AND\n",
    "and_result1 = a & b\n",
    "and_result2 = b & c\n",
    "print(\"a AND b    :\", bin(and_result1)[2:].zfill(8))\n",
    "print(\"b AND c    :\", bin(and_result2)[2:].zfill(8))\n",
    "print(\"=================[OR]====================\")\n",
    "# OR\n",
    "or_result1 = a | b\n",
    "or_result2 = b | c\n",
    "print(\"a OR b     :\", bin(or_result1)[2:].zfill(8))\n",
    "print(\"b OR c     :\", bin(or_result2)[2:].zfill(8))\n",
    "print(\"=================[XOR]===================\")\n",
    "# XOR\n",
    "xor_result1 = a ^ b\n",
    "xor_result2 = b ^ c\n",
    "print(\"a XOR b    :\", bin(xor_result1)[2:].zfill(8))\n",
    "print(\"b XOR c    :\", bin(xor_result2)[2:].zfill(8))\n",
    "print(\"=================[NOT]===================\")\n",
    "# XOR\n",
    "not_result1 = ~a\n",
    "not_result2 = ~b\n",
    "not_result3 = ~c\n",
    "print(\"NOT a      :\", bin(not_result1 & 0b11111111)[2:])\n",
    "print(\"NOT b      :\", bin(not_result2 & 0b11111111)[2:])\n",
    "print(\"NOT c      :\", bin(not_result3 & 0b11111111)[2:])"
   ]
  },
  {
   "cell_type": "markdown",
   "metadata": {},
   "source": [
    "## Right Shift of Graphics"
   ]
  },
  {
   "cell_type": "code",
   "execution_count": 34,
   "metadata": {},
   "outputs": [
    {
     "name": "stdout",
     "output_type": "stream",
     "text": [
      "[[  0   0   0   0   0   0   0   0   0   0   0]\n",
      " [  0   0   0   0   0   0   0   0   0   0   0]\n",
      " [  0   0 255   0   0   0   0   0 255   0   0]\n",
      " [  0   0 255 255   0   0   0   0 255   0   0]\n",
      " [  0   0 255 255   0   0   0   0 255   0   0]\n",
      " [  0   0 255   0 255   0   0   0 255   0   0]\n",
      " [  0   0 255   0 255   0   0   0 255   0   0]\n",
      " [  0   0 255   0   0 255   0   0 255   0   0]\n",
      " [  0   0 255   0   0 255   0   0 255   0   0]\n",
      " [  0   0 255   0   0 255   0   0 255   0   0]\n",
      " [  0   0 255   0   0   0 255   0 255   0   0]\n",
      " [  0   0 255   0   0   0 255   0 255   0   0]\n",
      " [  0   0 255   0   0   0   0 255 255   0   0]\n",
      " [  0   0 255   0   0   0   0 255 255   0   0]\n",
      " [  0   0 255   0   0   0   0   0 255   0   0]\n",
      " [  0   0   0   0   0   0   0   0   0   0   0]\n",
      " [  0   0   0   0   0   0   0   0   0   0   0]]\n"
     ]
    }
   ],
   "source": [
    "import sys\n",
    "\n",
    "write = sys.stdout.write\n",
    "\n",
    "\n",
    "import numpy as np\n",
    "\n",
    "HEIGHT = 17\n",
    "WIDTH = 11\n",
    "\n",
    "x, y = (0, 0)\n",
    "\n",
    "img_array = np.zeros((HEIGHT, WIDTH), dtype=np.int32)\n",
    "\n",
    "for x in range(WIDTH):\n",
    "    for y in range(HEIGHT):\n",
    "        if x < 2 or 9 <= x:\n",
    "            continue\n",
    "        if x == 2 or x == 8:\n",
    "            if 1 < y and y < 15:\n",
    "                img_array[y][x] = 255\n",
    "        if x == 3 or x == 4:\n",
    "            img_array[x + (x - 3)][x] = 255\n",
    "            img_array[x + (x - 3) + 1][x] = 255\n",
    "        if x == 6 or x == 7:\n",
    "            img_array[x + (x-2)][x] = 255\n",
    "            img_array[x + (x-2) + 1][x] = 255\n",
    "        if x == 5:\n",
    "            img_array[7][x] = 255\n",
    "            img_array[8][x] = 255\n",
    "            img_array[9][x] = 255\n",
    "            \n",
    "                \n",
    "print(img_array)"
   ]
  },
  {
   "cell_type": "code",
   "execution_count": null,
   "metadata": {},
   "outputs": [],
   "source": []
  }
 ],
 "metadata": {
  "kernelspec": {
   "display_name": "Python 3",
   "language": "python",
   "name": "python3"
  },
  "language_info": {
   "codemirror_mode": {
    "name": "ipython",
    "version": 3
   },
   "file_extension": ".py",
   "mimetype": "text/x-python",
   "name": "python",
   "nbconvert_exporter": "python",
   "pygments_lexer": "ipython3",
   "version": "3.6.4"
  }
 },
 "nbformat": 4,
 "nbformat_minor": 2
}
