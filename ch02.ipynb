{
 "cells": [
  {
   "cell_type": "markdown",
   "metadata": {},
   "source": [
    "## Bit Shifting Operation"
   ]
  },
  {
   "cell_type": "code",
   "execution_count": 7,
   "metadata": {},
   "outputs": [
    {
     "name": "stdout",
     "output_type": "stream",
     "text": [
      "binary of a: 0b100111\n",
      "after 2 logical left shift of a: 0b10011100\n",
      "after 2 logical left shift of a: 0b100\n"
     ]
    }
   ],
   "source": [
    "a = 39\n",
    "print(\"binary of a:\", bin(a))\n",
    "b = bin(a << 2)\n",
    "print(\"after 2 logical left shift of a:\", b)\n",
    "c = bin(a >> 3)\n",
    "print(\"after 3 logical right shift of a:\", c)"
   ]
  },
  {
   "cell_type": "markdown",
   "metadata": {},
   "source": []
  },
  {
   "cell_type": "markdown",
   "metadata": {},
   "source": []
  }
 ],
 "metadata": {
  "kernelspec": {
   "display_name": "Python 3",
   "language": "python",
   "name": "python3"
  },
  "language_info": {
   "codemirror_mode": {
    "name": "ipython",
    "version": 3
   },
   "file_extension": ".py",
   "mimetype": "text/x-python",
   "name": "python",
   "nbconvert_exporter": "python",
   "pygments_lexer": "ipython3",
   "version": "3.5.2"
  }
 },
 "nbformat": 4,
 "nbformat_minor": 2
}
