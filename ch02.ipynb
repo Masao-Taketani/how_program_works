{
 "cells": [
  {
   "cell_type": "markdown",
   "metadata": {},
   "source": [
    "## Bit Shifting Operation"
   ]
  },
  {
   "cell_type": "code",
   "execution_count": 7,
   "metadata": {},
   "outputs": [
    {
     "name": "stdout",
     "output_type": "stream",
     "text": [
      "binary of a: 0b100111\n",
      "after 2 logical left shift of a: 0b10011100\n",
      "after 2 logical left shift of a: 0b100\n"
     ]
    }
   ],
   "source": [
    "a = 39\n",
    "print(\"binary of a:\", bin(a))\n",
    "b = bin(a << 2)\n",
    "print(\"after 2 logical left shift of a:\", b)\n",
    "c = bin(a >> 3)\n",
    "print(\"after 3 logical right shift of a:\", c)"
   ]
  },
  {
   "cell_type": "markdown",
   "metadata": {},
   "source": [
    "## Logical Operators in Python"
   ]
  },
  {
   "cell_type": "code",
   "execution_count": 56,
   "metadata": {},
   "outputs": [
    {
     "name": "stdout",
     "output_type": "stream",
     "text": [
      "binary of a: 00000101\n",
      "binary of b: 00000111\n",
      "binary of c: 00001010\n",
      "=================[AND]===================\n",
      "a AND b    : 00000101\n",
      "b AND c    : 00000010\n",
      "=================[OR]====================\n",
      "a OR b     : 00000111\n",
      "b OR c     : 00001111\n",
      "=================[XOR]===================\n",
      "a XOR b    : 00000010\n",
      "b XOR c    : 00001101\n",
      "=================[NOT]===================\n",
      "NOT a      : 11111010\n",
      "NOT b      : 11111000\n",
      "NOT c      : 11110101\n"
     ]
    }
   ],
   "source": [
    "a = 5\n",
    "b = 7\n",
    "c = 10\n",
    "a_bin = bin(a)\n",
    "b_bin = bin(b)\n",
    "c_bin = bin(c)\n",
    "print(\"binary of a:\", a_bin[2:].zfill(8))\n",
    "print(\"binary of b:\", b_bin[2:].zfill(8))\n",
    "print(\"binary of c:\", c_bin[2:].zfill(8))\n",
    "print(\"=================[AND]===================\")\n",
    "# AND\n",
    "and_result1 = a & b\n",
    "and_result2 = b & c\n",
    "print(\"a AND b    :\", bin(and_result1)[2:].zfill(8))\n",
    "print(\"b AND c    :\", bin(and_result2)[2:].zfill(8))\n",
    "print(\"=================[OR]====================\")\n",
    "# OR\n",
    "or_result1 = a | b\n",
    "or_result2 = b | c\n",
    "print(\"a OR b     :\", bin(or_result1)[2:].zfill(8))\n",
    "print(\"b OR c     :\", bin(or_result2)[2:].zfill(8))\n",
    "print(\"=================[XOR]===================\")\n",
    "# XOR\n",
    "xor_result1 = a ^ b\n",
    "xor_result2 = b ^ c\n",
    "print(\"a XOR b    :\", bin(xor_result1)[2:].zfill(8))\n",
    "print(\"b XOR c    :\", bin(xor_result2)[2:].zfill(8))\n",
    "print(\"=================[NOT]===================\")\n",
    "# XOR\n",
    "not_result1 = ~a\n",
    "not_result2 = ~b\n",
    "not_result3 = ~c\n",
    "print(\"NOT a      :\", bin(not_result1 & 0b11111111)[2:])\n",
    "print(\"NOT b      :\", bin(not_result2 & 0b11111111)[2:])\n",
    "print(\"NOT c      :\", bin(not_result3 & 0b11111111)[2:])"
   ]
  },
  {
   "cell_type": "markdown",
   "metadata": {},
   "source": [
    "## Right Shift of Graphics"
   ]
  },
  {
   "cell_type": "code",
   "execution_count": 34,
   "metadata": {},
   "outputs": [
    {
     "name": "stdout",
     "output_type": "stream",
     "text": [
      "[[  0   0   0   0   0   0   0   0   0   0   0]\n",
      " [  0   0   0   0   0   0   0   0   0   0   0]\n",
      " [  0   0 255   0   0   0   0   0 255   0   0]\n",
      " [  0   0 255 255   0   0   0   0 255   0   0]\n",
      " [  0   0 255 255   0   0   0   0 255   0   0]\n",
      " [  0   0 255   0 255   0   0   0 255   0   0]\n",
      " [  0   0 255   0 255   0   0   0 255   0   0]\n",
      " [  0   0 255   0   0 255   0   0 255   0   0]\n",
      " [  0   0 255   0   0 255   0   0 255   0   0]\n",
      " [  0   0 255   0   0 255   0   0 255   0   0]\n",
      " [  0   0 255   0   0   0 255   0 255   0   0]\n",
      " [  0   0 255   0   0   0 255   0 255   0   0]\n",
      " [  0   0 255   0   0   0   0 255 255   0   0]\n",
      " [  0   0 255   0   0   0   0 255 255   0   0]\n",
      " [  0   0 255   0   0   0   0   0 255   0   0]\n",
      " [  0   0   0   0   0   0   0   0   0   0   0]\n",
      " [  0   0   0   0   0   0   0   0   0   0   0]]\n"
     ]
    }
   ],
   "source": [
    "import sys\n",
    "\n",
    "write = sys.stdout.write\n",
    "\n",
    "\n",
    "import numpy as np\n",
    "\n",
    "HEIGHT = 17\n",
    "WIDTH = 11\n",
    "\n",
    "x, y = (0, 0)\n",
    "\n",
    "img_array = np.zeros((HEIGHT, WIDTH), dtype=np.int32)\n",
    "\n",
    "for x in range(WIDTH):\n",
    "    for y in range(HEIGHT):\n",
    "        if x < 2 or 9 <= x:\n",
    "            continue\n",
    "        if x == 2 or x == 8:\n",
    "            if 1 < y and y < 15:\n",
    "                img_array[y][x] = 255\n",
    "        if x == 3 or x == 4:\n",
    "            img_array[x + (x - 3)][x] = 255\n",
    "            img_array[x + (x - 3) + 1][x] = 255\n",
    "        if x == 6 or x == 7:\n",
    "            img_array[x + (x-2)][x] = 255\n",
    "            img_array[x + (x-2) + 1][x] = 255\n",
    "        if x == 5:\n",
    "            img_array[7][x] = 255\n",
    "            img_array[8][x] = 255\n",
    "            img_array[9][x] = 255\n",
    "            \n",
    "                \n",
    "print(img_array)"
   ]
  },
  {
   "cell_type": "markdown",
   "metadata": {},
   "source": [
    "# 学んだこと\n",
    "\n",
    "- CPUやメモリーのようなICが持つすべてのピンは、直流電圧0Vか+5Vのいずれかである。つまり、ICのピン1本では、2つの状態しか表せない。よって、コンピューターは数字を2進数で扱う。\n",
    "- ビット(bit)とは、「断片」すなわち小さな情報という意味。\n",
    "- 2進数の桁数は、8桁、16桁、32桁、…のように8の倍数とするのが一般的だが、これはコンピューターで取り扱う情報の単位が、8桁の2進数「バイト(byte)」を基本としているから。\n",
    "- メモリーやディスクには、バイト単位でデータが格納されたり、読み取られたりする。そのため、バイトが情報の基本単位になる。\n",
    "- データを格納するバイト数より数字が小さいときは、上位桁に0を入れる。\n",
    "- 32ビットプロセッサでは、情報を入出力するためのピンを32本持っている。すなわち、一度に32桁の2進数の情報を処理できる。\n",
    "- コンピューターは2進数で与えられた情報を、数値なのか、文字なのか、グラフィックスのパターンなのか区別しない。そのため、情報をどのように処理するかは、プログラマーが指示しなければならない。\n",
    "- シフト演算には、桁をずらすことで、掛け算や割り算の代用にするという使い方もある。\n",
    "- コンピューターは引き算を行う際に補数を用いて内部的には足し算として演算を行うが、これが成り立つ理由は、絶対値が等しい正の値と負の値を足したときに、0になるからである。(例)1バイトで表した1の二進数表記「00000001」　－1の二進数表記「11111111」: 00000001 + 11111111 = 00000000\n",
    "- 正と負を両方取りえるデータ型の場合、扱える数の多さは負の数の方が1つ多いが、これは0は符号ビットで考えると正のグループに属するためである。\n",
    "- 2進数を右シフトする際に、グラフィックス等のパターンを扱う場合は、先頭の数値を右シフトして動かした分だけ0で補間し(論理右シフト)、数値として演算する場合は、符号ビットの値で補間する(算術右シフト)。\n",
    "- 左シフトの際は、論理も算術も左に移動した分だけ、後ろを0で補間する。\n",
    "- データのビットサイズを8桁→16桁等に増やす際に、元のデータの符号ビットの値で上位桁を満たすようにすることを符号拡張という。"
   ]
  },
  {
   "cell_type": "code",
   "execution_count": null,
   "metadata": {},
   "outputs": [],
   "source": []
  }
 ],
 "metadata": {
  "kernelspec": {
   "display_name": "Python 3",
   "language": "python",
   "name": "python3"
  },
  "language_info": {
   "codemirror_mode": {
    "name": "ipython",
    "version": 3
   },
   "file_extension": ".py",
   "mimetype": "text/x-python",
   "name": "python",
   "nbconvert_exporter": "python",
   "pygments_lexer": "ipython3",
   "version": "3.6.4"
  }
 },
 "nbformat": 4,
 "nbformat_minor": 2
}
